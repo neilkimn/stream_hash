{
 "cells": [
  {
   "cell_type": "code",
   "execution_count": 1,
   "id": "019a4807",
   "metadata": {},
   "outputs": [],
   "source": [
    "import finn.builder.build_dataflow as build\n",
    "import finn.builder.build_dataflow_config as build_cfg\n",
    "from finn.builder.build_dataflow_config import ShellFlowType\n",
    "import os\n",
    "import shutil\n",
    "from finn.transformation.change_3d_tensors_to_4d import Change3DTo4DTensors\n",
    "import finn.transformation.streamline.absorb as absorb\n",
    "import finn.transformation.fpgadataflow.convert_to_hls_layers as to_hls\n",
    "from finn.transformation.general import GiveUniqueNodeNames\n",
    "from finn.core.modelwrapper import ModelWrapper\n",
    "from finn.builder.build_dataflow_config import DataflowBuildConfig\n",
    "from finn.transformation.streamline import Streamline\n",
    "\n",
    "model_file = \"classifier_1.onnx\"\n",
    "\n",
    "rtlsim_output_dir = \"u280_classifier_5\"\n",
    "\n",
    "#Delete previous run results if exist\n",
    "if os.path.exists(rtlsim_output_dir):\n",
    "    shutil.rmtree(rtlsim_output_dir)\n",
    "    print(\"Previous run results deleted!\")\n",
    "    \n",
    "def step_pre_streamline(model: ModelWrapper, cfg: DataflowBuildConfig):\n",
    "    model = model.transform(Change3DTo4DTensors())\n",
    "    model = model.transform(absorb.AbsorbScalarMulAddIntoTopK())\n",
    "    model = model.transform(Streamline())\n",
    "    return model\n",
    "\n",
    "\n",
    "def step_convert_final_layers(model: ModelWrapper, cfg: DataflowBuildConfig):\n",
    "    model = model.transform(to_hls.InferChannelwiseLinearLayer())\n",
    "    model = model.transform(to_hls.InferLabelSelectLayer())\n",
    "    model = model.transform(GiveUniqueNodeNames())\n",
    "    return model\n",
    "    \n",
    "def select_build_steps():\n",
    "    return [\n",
    "        \"step_qonnx_to_finn\",\n",
    "        \"step_tidy_up\",\n",
    "        step_pre_streamline,\n",
    "        \"step_streamline\",\n",
    "        \"step_convert_to_hls\",\n",
    "        step_convert_final_layers,\n",
    "        \"step_create_dataflow_partition\",\n",
    "        \"step_target_fps_parallelization\",\n",
    "        \"step_apply_folding_config\",\n",
    "        \"step_generate_estimate_reports\",\n",
    "        \"step_hls_codegen\",\n",
    "        \"step_hls_ipgen\",\n",
    "        \"step_set_fifo_depths\",\n",
    "        \"step_create_stitched_ip\",\n",
    "        #\"step_measure_rtlsim_performance\",\n",
    "        #\"step_out_of_context_synthesis\",\n",
    "        #\"step_synthesize_bitfile\",\n",
    "        #\"step_make_pynq_driver\",\n",
    "        #\"step_deployment_package\",\n",
    "    ]"
   ]
  },
  {
   "cell_type": "raw",
   "id": "e3410230",
   "metadata": {},
   "source": [
    "cfg_stitched_ip = build.DataflowBuildConfig(\n",
    "    output_dir          = rtlsim_output_dir,\n",
    "    mvau_wwidth_max     = 80,\n",
    "    target_fps          = 1,\n",
    "    synth_clk_period_ns = 10.0,\n",
    "    fpga_part           = \"xcu280-fsvh2892-2L-e\",\n",
    "    #fpga_part           = \"xcu250-figd2104-2L-e\",\n",
    "    shell_flow_type     = ShellFlowType.VITIS_ALVEO,\n",
    "    vitis_platform      = \"xilinx_u280_xdma_201920_3\",\n",
    "    generate_outputs=[\n",
    "        build_cfg.DataflowOutputType.STITCHED_IP,\n",
    "        build_cfg.DataflowOutputType.RTLSIM_PERFORMANCE,\n",
    "        build_cfg.DataflowOutputType.OOC_SYNTH,\n",
    "    ]\n",
    ")"
   ]
  },
  {
   "cell_type": "code",
   "execution_count": 2,
   "id": "36b0f96f",
   "metadata": {},
   "outputs": [
    {
     "data": {
      "text/plain": [
       "'\\n    verify_steps = [\\n        build_cfg.VerificationStepType.QONNX_TO_FINN_PYTHON,\\n        build_cfg.VerificationStepType.TIDY_UP_PYTHON,\\n        build_cfg.VerificationStepType.STREAMLINED_PYTHON,\\n        build_cfg.VerificationStepType.FOLDED_HLS_CPPSIM,\\n        build_cfg.VerificationStepType.STITCHED_IP_RTLSIM,\\n    ],\\n    verify_input_npy = \"in_single.npy\",\\n    verify_expected_output_npy = \"out_single.npy\"\\n    '"
      ]
     },
     "execution_count": 2,
     "metadata": {},
     "output_type": "execute_result"
    }
   ],
   "source": [
    "cfg_stitched_ip = build.DataflowBuildConfig(\n",
    "    steps               = select_build_steps(),\n",
    "    output_dir          = rtlsim_output_dir,\n",
    "    mvau_wwidth_max     = 80,\n",
    "    target_fps          = 1000000,\n",
    "    synth_clk_period_ns = 10.0,\n",
    "    \n",
    "    #board = \"U250\",\n",
    "    fpga_part           = \"xcu280-fsvh2892-2L-e\",\n",
    "    vitis_platform      = \"xilinx_u280_xdma_201920_3\",\n",
    "    shell_flow_type     = ShellFlowType.VITIS_ALVEO,    \n",
    "    #fpga_part           = \"xc7z020clg400-1\",\n",
    "    generate_outputs=[\n",
    "        build_cfg.DataflowOutputType.ESTIMATE_REPORTS,\n",
    "        build_cfg.DataflowOutputType.STITCHED_IP,\n",
    "        build_cfg.DataflowOutputType.RTLSIM_PERFORMANCE,\n",
    "        build_cfg.DataflowOutputType.OOC_SYNTH,\n",
    "        #build_cfg.DataflowOutputType.BITFILE,\n",
    "    ]\n",
    "    \n",
    ")\n",
    "\"\"\"\n",
    "    verify_steps = [\n",
    "        build_cfg.VerificationStepType.QONNX_TO_FINN_PYTHON,\n",
    "        build_cfg.VerificationStepType.TIDY_UP_PYTHON,\n",
    "        build_cfg.VerificationStepType.STREAMLINED_PYTHON,\n",
    "        build_cfg.VerificationStepType.FOLDED_HLS_CPPSIM,\n",
    "        build_cfg.VerificationStepType.STITCHED_IP_RTLSIM,\n",
    "    ],\n",
    "    verify_input_npy = \"in_single.npy\",\n",
    "    verify_expected_output_npy = \"out_single.npy\"\n",
    "    \"\"\""
   ]
  },
  {
   "cell_type": "code",
   "execution_count": 3,
   "id": "3ab17da0",
   "metadata": {},
   "outputs": [
    {
     "name": "stdout",
     "output_type": "stream",
     "text": [
      "Building dataflow accelerator from classifier_1.onnx\n",
      "Intermediate outputs will be generated in /tmp/finn_dev_neni\n",
      "Final outputs will be generated in u280_classifier_5\n",
      "Build log is at u280_classifier_5/build_dataflow.log\n",
      "Running step: step_qonnx_to_finn [1/14]\n",
      "Running step: step_tidy_up [2/14]\n",
      "Running step: step_pre_streamline [3/14]\n",
      "Running step: step_streamline [4/14]\n",
      "Running step: step_convert_to_hls [5/14]\n",
      "Running step: step_convert_final_layers [6/14]\n",
      "Running step: step_create_dataflow_partition [7/14]\n",
      "Running step: step_target_fps_parallelization [8/14]\n",
      "Running step: step_apply_folding_config [9/14]\n",
      "Running step: step_generate_estimate_reports [10/14]\n",
      "Running step: step_hls_codegen [11/14]\n",
      "Running step: step_hls_ipgen [12/14]\n",
      "Running step: step_set_fifo_depths [13/14]\n",
      "Running step: step_create_stitched_ip [14/14]\n",
      "Completed successfully\n",
      "CPU times: user 12.9 s, sys: 0 ns, total: 12.9 s\n",
      "Wall time: 1h 15min 54s\n"
     ]
    },
    {
     "data": {
      "text/plain": [
       "0"
      ]
     },
     "execution_count": 3,
     "metadata": {},
     "output_type": "execute_result"
    }
   ],
   "source": [
    "%%time\n",
    "build.build_dataflow_cfg(model_file, cfg_stitched_ip)"
   ]
  },
  {
   "cell_type": "code",
   "execution_count": 14,
   "id": "39f52b0e",
   "metadata": {},
   "outputs": [
    {
     "ename": "FileNotFoundError",
     "evalue": "[Errno 2] No such file or directory: 'u250_classifier/intermediate_models/step_convert_final_layers.onnx'",
     "output_type": "error",
     "traceback": [
      "\u001b[0;31m---------------------------------------------------------------------------\u001b[0m",
      "\u001b[0;31mFileNotFoundError\u001b[0m                         Traceback (most recent call last)",
      "\u001b[0;32m<ipython-input-14-c2a790aa0223>\u001b[0m in \u001b[0;36m<module>\u001b[0;34m\u001b[0m\n\u001b[1;32m      1\u001b[0m \u001b[0;32mfrom\u001b[0m \u001b[0mfinn\u001b[0m\u001b[0;34m.\u001b[0m\u001b[0mutil\u001b[0m\u001b[0;34m.\u001b[0m\u001b[0mvisualization\u001b[0m \u001b[0;32mimport\u001b[0m \u001b[0mshowInNetron\u001b[0m\u001b[0;34m\u001b[0m\u001b[0;34m\u001b[0m\u001b[0m\n\u001b[0;32m----> 2\u001b[0;31m \u001b[0mshowInNetron\u001b[0m\u001b[0;34m(\u001b[0m\u001b[0mrtlsim_output_dir\u001b[0m \u001b[0;34m+\u001b[0m \u001b[0;34m\"/intermediate_models/step_convert_final_layers.onnx\"\u001b[0m\u001b[0;34m)\u001b[0m\u001b[0;34m\u001b[0m\u001b[0;34m\u001b[0m\u001b[0m\n\u001b[0m",
      "\u001b[0;32m/workspace/finn/src/finn/util/visualization.py\u001b[0m in \u001b[0;36mshowInNetron\u001b[0;34m(model_filename, localhost_url, port)\u001b[0m\n\u001b[1;32m     59\u001b[0m         \u001b[0mport\u001b[0m \u001b[0;34m=\u001b[0m \u001b[0;36m8081\u001b[0m\u001b[0;34m\u001b[0m\u001b[0;34m\u001b[0m\u001b[0m\n\u001b[1;32m     60\u001b[0m     \u001b[0mlocalhost_url\u001b[0m \u001b[0;34m=\u001b[0m \u001b[0mlocalhost_url\u001b[0m \u001b[0;32mor\u001b[0m \u001b[0mos\u001b[0m\u001b[0;34m.\u001b[0m\u001b[0mgetenv\u001b[0m\u001b[0;34m(\u001b[0m\u001b[0;34m\"LOCALHOST_URL\"\u001b[0m\u001b[0;34m,\u001b[0m \u001b[0mdefault\u001b[0m\u001b[0;34m=\u001b[0m\u001b[0;34m\"localhost\"\u001b[0m\u001b[0;34m)\u001b[0m\u001b[0;34m\u001b[0m\u001b[0;34m\u001b[0m\u001b[0m\n\u001b[0;32m---> 61\u001b[0;31m     \u001b[0mnetron\u001b[0m\u001b[0;34m.\u001b[0m\u001b[0mstart\u001b[0m\u001b[0;34m(\u001b[0m\u001b[0mmodel_filename\u001b[0m\u001b[0;34m,\u001b[0m \u001b[0maddress\u001b[0m\u001b[0;34m=\u001b[0m\u001b[0;34m(\u001b[0m\u001b[0;34m\"0.0.0.0\"\u001b[0m\u001b[0;34m,\u001b[0m \u001b[0mport\u001b[0m\u001b[0;34m)\u001b[0m\u001b[0;34m,\u001b[0m \u001b[0mbrowse\u001b[0m\u001b[0;34m=\u001b[0m\u001b[0;32mFalse\u001b[0m\u001b[0;34m)\u001b[0m\u001b[0;34m\u001b[0m\u001b[0;34m\u001b[0m\u001b[0m\n\u001b[0m\u001b[1;32m     62\u001b[0m     \u001b[0;32mreturn\u001b[0m \u001b[0mIFrame\u001b[0m\u001b[0;34m(\u001b[0m\u001b[0msrc\u001b[0m\u001b[0;34m=\u001b[0m\u001b[0;34mf\"http://{localhost_url}:{port}/\"\u001b[0m\u001b[0;34m,\u001b[0m \u001b[0mwidth\u001b[0m\u001b[0;34m=\u001b[0m\u001b[0;34m\"100%\"\u001b[0m\u001b[0;34m,\u001b[0m \u001b[0mheight\u001b[0m\u001b[0;34m=\u001b[0m\u001b[0;36m400\u001b[0m\u001b[0;34m)\u001b[0m\u001b[0;34m\u001b[0m\u001b[0;34m\u001b[0m\u001b[0m\n",
      "\u001b[0;32m/opt/conda/lib/python3.8/site-packages/netron/server.py\u001b[0m in \u001b[0;36mstart\u001b[0;34m(file, address, browse, log)\u001b[0m\n\u001b[1;32m    296\u001b[0m         \u001b[0mA\u001b[0m \u001b[0;34m(\u001b[0m\u001b[0mhost\u001b[0m\u001b[0;34m,\u001b[0m \u001b[0mport\u001b[0m\u001b[0;34m)\u001b[0m \u001b[0maddress\u001b[0m \u001b[0mtuple\u001b[0m\u001b[0;34m.\u001b[0m\u001b[0;34m\u001b[0m\u001b[0;34m\u001b[0m\u001b[0m\n\u001b[1;32m    297\u001b[0m     '''\n\u001b[0;32m--> 298\u001b[0;31m     \u001b[0;32mreturn\u001b[0m \u001b[0mserve\u001b[0m\u001b[0;34m(\u001b[0m\u001b[0mfile\u001b[0m\u001b[0;34m,\u001b[0m \u001b[0;32mNone\u001b[0m\u001b[0;34m,\u001b[0m \u001b[0mbrowse\u001b[0m\u001b[0;34m=\u001b[0m\u001b[0mbrowse\u001b[0m\u001b[0;34m,\u001b[0m \u001b[0maddress\u001b[0m\u001b[0;34m=\u001b[0m\u001b[0maddress\u001b[0m\u001b[0;34m,\u001b[0m \u001b[0mlog\u001b[0m\u001b[0;34m=\u001b[0m\u001b[0mlog\u001b[0m\u001b[0;34m)\u001b[0m\u001b[0;34m\u001b[0m\u001b[0;34m\u001b[0m\u001b[0m\n\u001b[0m",
      "\u001b[0;32m/opt/conda/lib/python3.8/site-packages/netron/server.py\u001b[0m in \u001b[0;36mserve\u001b[0;34m(file, data, address, browse, log)\u001b[0m\n\u001b[1;32m    258\u001b[0m     '''\n\u001b[1;32m    259\u001b[0m     \u001b[0;32mif\u001b[0m \u001b[0;32mnot\u001b[0m \u001b[0mdata\u001b[0m \u001b[0;32mand\u001b[0m \u001b[0mfile\u001b[0m \u001b[0;32mand\u001b[0m \u001b[0;32mnot\u001b[0m \u001b[0mos\u001b[0m\u001b[0;34m.\u001b[0m\u001b[0mpath\u001b[0m\u001b[0;34m.\u001b[0m\u001b[0mexists\u001b[0m\u001b[0;34m(\u001b[0m\u001b[0mfile\u001b[0m\u001b[0;34m)\u001b[0m\u001b[0;34m:\u001b[0m\u001b[0;34m\u001b[0m\u001b[0;34m\u001b[0m\u001b[0m\n\u001b[0;32m--> 260\u001b[0;31m         \u001b[0;32mraise\u001b[0m \u001b[0mFileNotFoundError\u001b[0m\u001b[0;34m(\u001b[0m\u001b[0merrno\u001b[0m\u001b[0;34m.\u001b[0m\u001b[0mENOENT\u001b[0m\u001b[0;34m,\u001b[0m \u001b[0mos\u001b[0m\u001b[0;34m.\u001b[0m\u001b[0mstrerror\u001b[0m\u001b[0;34m(\u001b[0m\u001b[0merrno\u001b[0m\u001b[0;34m.\u001b[0m\u001b[0mENOENT\u001b[0m\u001b[0;34m)\u001b[0m\u001b[0;34m,\u001b[0m \u001b[0mfile\u001b[0m\u001b[0;34m)\u001b[0m\u001b[0;34m\u001b[0m\u001b[0;34m\u001b[0m\u001b[0m\n\u001b[0m\u001b[1;32m    261\u001b[0m \u001b[0;34m\u001b[0m\u001b[0m\n\u001b[1;32m    262\u001b[0m     \u001b[0m_update_thread_list\u001b[0m\u001b[0;34m(\u001b[0m\u001b[0;34m)\u001b[0m\u001b[0;34m\u001b[0m\u001b[0;34m\u001b[0m\u001b[0m\n",
      "\u001b[0;31mFileNotFoundError\u001b[0m: [Errno 2] No such file or directory: 'u250_classifier/intermediate_models/step_convert_final_layers.onnx'"
     ]
    }
   ],
   "source": [
    "from finn.util.visualization import showInNetron\n",
    "showInNetron(rtlsim_output_dir + \"/intermediate_models/step_convert_final_layers.onnx\")"
   ]
  },
  {
   "cell_type": "code",
   "execution_count": null,
   "id": "02a83dee",
   "metadata": {},
   "outputs": [],
   "source": []
  }
 ],
 "metadata": {
  "kernelspec": {
   "display_name": "Python 3",
   "language": "python",
   "name": "python3"
  },
  "language_info": {
   "codemirror_mode": {
    "name": "ipython",
    "version": 3
   },
   "file_extension": ".py",
   "mimetype": "text/x-python",
   "name": "python",
   "nbconvert_exporter": "python",
   "pygments_lexer": "ipython3",
   "version": "3.8.5"
  }
 },
 "nbformat": 4,
 "nbformat_minor": 5
}
